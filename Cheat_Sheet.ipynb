{
 "cells": [
  {
   "cell_type": "markdown",
   "metadata": {},
   "source": [
    "#LISTS \\\n",
    "A list looks like this \\\n",
    "list_name = [1,2,3,4,5]\\\n",
    "Initialization can be done in 2 ways \\\n",
    "list_name = [] \\\n",
    "list_name = list() #initializes using constructor \\\n",
    "A single list can store store data of different data types\\\n",
    "List can also have list as an element\\\n",
    "Lists are mutable\\\n",
    "To update list \\\n",
    "list_name.append(index_no)\\\n",
    "del list_name[index_no]"
   ]
  },
  {
   "cell_type": "markdown",
   "metadata": {},
   "source": [
    "#TUPLES \\\n",
    "A tuple looks like this \\\n",
    "tuple_name = (1,2,3,4)\\\n",
    "Initialization can be done in 2 ways \\\n",
    "tuple_name = 1,2,3,4\\\n",
    "tuple_name = tuple() #initializes using constructor \\\n",
    "Tuples also stores elements of different data types and tuples can also have tuple as an element\\\n",
    "Tuples are immutable\\\n",
    "Tuples can be used when we dont want the values to be modified by the user\n"
   ]
  },
  {
   "cell_type": "markdown",
   "metadata": {},
   "source": []
  }
 ],
 "metadata": {
  "kernelspec": {
   "display_name": "Python 3",
   "language": "python",
   "name": "python3"
  },
  "language_info": {
   "name": "python",
   "version": "3.12.3"
  }
 },
 "nbformat": 4,
 "nbformat_minor": 2
}
